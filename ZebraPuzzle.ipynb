{
  "nbformat": 4,
  "nbformat_minor": 0,
  "metadata": {
    "colab": {
      "provenance": []
    },
    "kernelspec": {
      "name": "python3",
      "display_name": "Python 3"
    },
    "language_info": {
      "name": "python"
    }
  },
  "cells": [
    {
      "cell_type": "code",
      "source": [
        "! pip install ipythonblocks"
      ],
      "metadata": {
        "id": "RArFhcQoSMWH",
        "colab": {
          "base_uri": "https://localhost:8080/"
        },
        "outputId": "7f3aa2a2-fe16-4f6f-b741-b4dcc2614d12"
      },
      "execution_count": 2,
      "outputs": [
        {
          "output_type": "stream",
          "name": "stdout",
          "text": [
            "Collecting ipythonblocks\n",
            "  Downloading ipythonblocks-1.9.1-py2.py3-none-any.whl (14 kB)\n",
            "Requirement already satisfied: ipython>=4.0 in /usr/local/lib/python3.10/dist-packages (from ipythonblocks) (7.34.0)\n",
            "Requirement already satisfied: notebook>=4.0 in /usr/local/lib/python3.10/dist-packages (from ipythonblocks) (6.5.5)\n",
            "Requirement already satisfied: requests>=1.0 in /usr/local/lib/python3.10/dist-packages (from ipythonblocks) (2.31.0)\n",
            "Requirement already satisfied: setuptools>=18.5 in /usr/local/lib/python3.10/dist-packages (from ipython>=4.0->ipythonblocks) (67.7.2)\n",
            "Collecting jedi>=0.16 (from ipython>=4.0->ipythonblocks)\n",
            "  Downloading jedi-0.19.1-py2.py3-none-any.whl (1.6 MB)\n",
            "\u001b[2K     \u001b[90m━━━━━━━━━━━━━━━━━━━━━━━━━━━━━━━━━━━━━━━━\u001b[0m \u001b[32m1.6/1.6 MB\u001b[0m \u001b[31m6.3 MB/s\u001b[0m eta \u001b[36m0:00:00\u001b[0m\n",
            "\u001b[?25hRequirement already satisfied: decorator in /usr/local/lib/python3.10/dist-packages (from ipython>=4.0->ipythonblocks) (4.4.2)\n",
            "Requirement already satisfied: pickleshare in /usr/local/lib/python3.10/dist-packages (from ipython>=4.0->ipythonblocks) (0.7.5)\n",
            "Requirement already satisfied: traitlets>=4.2 in /usr/local/lib/python3.10/dist-packages (from ipython>=4.0->ipythonblocks) (5.7.1)\n",
            "Requirement already satisfied: prompt-toolkit!=3.0.0,!=3.0.1,<3.1.0,>=2.0.0 in /usr/local/lib/python3.10/dist-packages (from ipython>=4.0->ipythonblocks) (3.0.43)\n",
            "Requirement already satisfied: pygments in /usr/local/lib/python3.10/dist-packages (from ipython>=4.0->ipythonblocks) (2.16.1)\n",
            "Requirement already satisfied: backcall in /usr/local/lib/python3.10/dist-packages (from ipython>=4.0->ipythonblocks) (0.2.0)\n",
            "Requirement already satisfied: matplotlib-inline in /usr/local/lib/python3.10/dist-packages (from ipython>=4.0->ipythonblocks) (0.1.6)\n",
            "Requirement already satisfied: pexpect>4.3 in /usr/local/lib/python3.10/dist-packages (from ipython>=4.0->ipythonblocks) (4.9.0)\n",
            "Requirement already satisfied: jinja2 in /usr/local/lib/python3.10/dist-packages (from notebook>=4.0->ipythonblocks) (3.1.2)\n",
            "Requirement already satisfied: tornado>=6.1 in /usr/local/lib/python3.10/dist-packages (from notebook>=4.0->ipythonblocks) (6.3.2)\n",
            "Requirement already satisfied: pyzmq<25,>=17 in /usr/local/lib/python3.10/dist-packages (from notebook>=4.0->ipythonblocks) (23.2.1)\n",
            "Requirement already satisfied: argon2-cffi in /usr/local/lib/python3.10/dist-packages (from notebook>=4.0->ipythonblocks) (23.1.0)\n",
            "Requirement already satisfied: jupyter-core>=4.6.1 in /usr/local/lib/python3.10/dist-packages (from notebook>=4.0->ipythonblocks) (5.5.1)\n",
            "Requirement already satisfied: jupyter-client<8,>=5.3.4 in /usr/local/lib/python3.10/dist-packages (from notebook>=4.0->ipythonblocks) (6.1.12)\n",
            "Requirement already satisfied: ipython-genutils in /usr/local/lib/python3.10/dist-packages (from notebook>=4.0->ipythonblocks) (0.2.0)\n",
            "Requirement already satisfied: nbformat in /usr/local/lib/python3.10/dist-packages (from notebook>=4.0->ipythonblocks) (5.9.2)\n",
            "Requirement already satisfied: nbconvert>=5 in /usr/local/lib/python3.10/dist-packages (from notebook>=4.0->ipythonblocks) (6.5.4)\n",
            "Requirement already satisfied: nest-asyncio>=1.5 in /usr/local/lib/python3.10/dist-packages (from notebook>=4.0->ipythonblocks) (1.5.8)\n",
            "Requirement already satisfied: ipykernel in /usr/local/lib/python3.10/dist-packages (from notebook>=4.0->ipythonblocks) (5.5.6)\n",
            "Requirement already satisfied: Send2Trash>=1.8.0 in /usr/local/lib/python3.10/dist-packages (from notebook>=4.0->ipythonblocks) (1.8.2)\n",
            "Requirement already satisfied: terminado>=0.8.3 in /usr/local/lib/python3.10/dist-packages (from notebook>=4.0->ipythonblocks) (0.18.0)\n",
            "Requirement already satisfied: prometheus-client in /usr/local/lib/python3.10/dist-packages (from notebook>=4.0->ipythonblocks) (0.19.0)\n",
            "Requirement already satisfied: nbclassic>=0.4.7 in /usr/local/lib/python3.10/dist-packages (from notebook>=4.0->ipythonblocks) (1.0.0)\n",
            "Requirement already satisfied: charset-normalizer<4,>=2 in /usr/local/lib/python3.10/dist-packages (from requests>=1.0->ipythonblocks) (3.3.2)\n",
            "Requirement already satisfied: idna<4,>=2.5 in /usr/local/lib/python3.10/dist-packages (from requests>=1.0->ipythonblocks) (3.6)\n",
            "Requirement already satisfied: urllib3<3,>=1.21.1 in /usr/local/lib/python3.10/dist-packages (from requests>=1.0->ipythonblocks) (2.0.7)\n",
            "Requirement already satisfied: certifi>=2017.4.17 in /usr/local/lib/python3.10/dist-packages (from requests>=1.0->ipythonblocks) (2023.11.17)\n",
            "Requirement already satisfied: parso<0.9.0,>=0.8.3 in /usr/local/lib/python3.10/dist-packages (from jedi>=0.16->ipython>=4.0->ipythonblocks) (0.8.3)\n",
            "Requirement already satisfied: python-dateutil>=2.1 in /usr/local/lib/python3.10/dist-packages (from jupyter-client<8,>=5.3.4->notebook>=4.0->ipythonblocks) (2.8.2)\n",
            "Requirement already satisfied: platformdirs>=2.5 in /usr/local/lib/python3.10/dist-packages (from jupyter-core>=4.6.1->notebook>=4.0->ipythonblocks) (4.1.0)\n",
            "Requirement already satisfied: jupyter-server>=1.8 in /usr/local/lib/python3.10/dist-packages (from nbclassic>=0.4.7->notebook>=4.0->ipythonblocks) (1.24.0)\n",
            "Requirement already satisfied: notebook-shim>=0.2.3 in /usr/local/lib/python3.10/dist-packages (from nbclassic>=0.4.7->notebook>=4.0->ipythonblocks) (0.2.3)\n",
            "Requirement already satisfied: lxml in /usr/local/lib/python3.10/dist-packages (from nbconvert>=5->notebook>=4.0->ipythonblocks) (4.9.3)\n",
            "Requirement already satisfied: beautifulsoup4 in /usr/local/lib/python3.10/dist-packages (from nbconvert>=5->notebook>=4.0->ipythonblocks) (4.11.2)\n",
            "Requirement already satisfied: bleach in /usr/local/lib/python3.10/dist-packages (from nbconvert>=5->notebook>=4.0->ipythonblocks) (6.1.0)\n",
            "Requirement already satisfied: defusedxml in /usr/local/lib/python3.10/dist-packages (from nbconvert>=5->notebook>=4.0->ipythonblocks) (0.7.1)\n",
            "Requirement already satisfied: entrypoints>=0.2.2 in /usr/local/lib/python3.10/dist-packages (from nbconvert>=5->notebook>=4.0->ipythonblocks) (0.4)\n",
            "Requirement already satisfied: jupyterlab-pygments in /usr/local/lib/python3.10/dist-packages (from nbconvert>=5->notebook>=4.0->ipythonblocks) (0.3.0)\n",
            "Requirement already satisfied: MarkupSafe>=2.0 in /usr/local/lib/python3.10/dist-packages (from nbconvert>=5->notebook>=4.0->ipythonblocks) (2.1.3)\n",
            "Requirement already satisfied: mistune<2,>=0.8.1 in /usr/local/lib/python3.10/dist-packages (from nbconvert>=5->notebook>=4.0->ipythonblocks) (0.8.4)\n",
            "Requirement already satisfied: nbclient>=0.5.0 in /usr/local/lib/python3.10/dist-packages (from nbconvert>=5->notebook>=4.0->ipythonblocks) (0.9.0)\n",
            "Requirement already satisfied: packaging in /usr/local/lib/python3.10/dist-packages (from nbconvert>=5->notebook>=4.0->ipythonblocks) (23.2)\n",
            "Requirement already satisfied: pandocfilters>=1.4.1 in /usr/local/lib/python3.10/dist-packages (from nbconvert>=5->notebook>=4.0->ipythonblocks) (1.5.0)\n",
            "Requirement already satisfied: tinycss2 in /usr/local/lib/python3.10/dist-packages (from nbconvert>=5->notebook>=4.0->ipythonblocks) (1.2.1)\n",
            "Requirement already satisfied: fastjsonschema in /usr/local/lib/python3.10/dist-packages (from nbformat->notebook>=4.0->ipythonblocks) (2.19.0)\n",
            "Requirement already satisfied: jsonschema>=2.6 in /usr/local/lib/python3.10/dist-packages (from nbformat->notebook>=4.0->ipythonblocks) (4.19.2)\n",
            "Requirement already satisfied: ptyprocess>=0.5 in /usr/local/lib/python3.10/dist-packages (from pexpect>4.3->ipython>=4.0->ipythonblocks) (0.7.0)\n",
            "Requirement already satisfied: wcwidth in /usr/local/lib/python3.10/dist-packages (from prompt-toolkit!=3.0.0,!=3.0.1,<3.1.0,>=2.0.0->ipython>=4.0->ipythonblocks) (0.2.12)\n",
            "Requirement already satisfied: argon2-cffi-bindings in /usr/local/lib/python3.10/dist-packages (from argon2-cffi->notebook>=4.0->ipythonblocks) (21.2.0)\n",
            "Requirement already satisfied: attrs>=22.2.0 in /usr/local/lib/python3.10/dist-packages (from jsonschema>=2.6->nbformat->notebook>=4.0->ipythonblocks) (23.1.0)\n",
            "Requirement already satisfied: jsonschema-specifications>=2023.03.6 in /usr/local/lib/python3.10/dist-packages (from jsonschema>=2.6->nbformat->notebook>=4.0->ipythonblocks) (2023.11.2)\n",
            "Requirement already satisfied: referencing>=0.28.4 in /usr/local/lib/python3.10/dist-packages (from jsonschema>=2.6->nbformat->notebook>=4.0->ipythonblocks) (0.32.0)\n",
            "Requirement already satisfied: rpds-py>=0.7.1 in /usr/local/lib/python3.10/dist-packages (from jsonschema>=2.6->nbformat->notebook>=4.0->ipythonblocks) (0.15.2)\n",
            "Requirement already satisfied: anyio<4,>=3.1.0 in /usr/local/lib/python3.10/dist-packages (from jupyter-server>=1.8->nbclassic>=0.4.7->notebook>=4.0->ipythonblocks) (3.7.1)\n",
            "Requirement already satisfied: websocket-client in /usr/local/lib/python3.10/dist-packages (from jupyter-server>=1.8->nbclassic>=0.4.7->notebook>=4.0->ipythonblocks) (1.7.0)\n",
            "Requirement already satisfied: six>=1.5 in /usr/local/lib/python3.10/dist-packages (from python-dateutil>=2.1->jupyter-client<8,>=5.3.4->notebook>=4.0->ipythonblocks) (1.16.0)\n",
            "Requirement already satisfied: cffi>=1.0.1 in /usr/local/lib/python3.10/dist-packages (from argon2-cffi-bindings->argon2-cffi->notebook>=4.0->ipythonblocks) (1.16.0)\n",
            "Requirement already satisfied: soupsieve>1.2 in /usr/local/lib/python3.10/dist-packages (from beautifulsoup4->nbconvert>=5->notebook>=4.0->ipythonblocks) (2.5)\n",
            "Requirement already satisfied: webencodings in /usr/local/lib/python3.10/dist-packages (from bleach->nbconvert>=5->notebook>=4.0->ipythonblocks) (0.5.1)\n",
            "Requirement already satisfied: sniffio>=1.1 in /usr/local/lib/python3.10/dist-packages (from anyio<4,>=3.1.0->jupyter-server>=1.8->nbclassic>=0.4.7->notebook>=4.0->ipythonblocks) (1.3.0)\n",
            "Requirement already satisfied: exceptiongroup in /usr/local/lib/python3.10/dist-packages (from anyio<4,>=3.1.0->jupyter-server>=1.8->nbclassic>=0.4.7->notebook>=4.0->ipythonblocks) (1.2.0)\n",
            "Requirement already satisfied: pycparser in /usr/local/lib/python3.10/dist-packages (from cffi>=1.0.1->argon2-cffi-bindings->argon2-cffi->notebook>=4.0->ipythonblocks) (2.21)\n",
            "Installing collected packages: jedi, ipythonblocks\n",
            "Successfully installed ipythonblocks-1.9.1 jedi-0.19.1\n"
          ]
        }
      ]
    },
    {
      "cell_type": "code",
      "source": [
        "from google.colab import drive\n",
        "drive.mount('/content/drive')\n",
        "\n",
        "import sys\n",
        "sys.path.append('/content/drive/MyDrive')\n",
        "\n",
        "from aima import logic\n",
        "from aima.logic import FolKB, fol_fc_ask\n",
        "from aima.utils import expr, Expr"
      ],
      "metadata": {
        "id": "jXQ520yNUULO",
        "colab": {
          "base_uri": "https://localhost:8080/"
        },
        "outputId": "af6f307c-8c51-4960-e950-301542dee59a"
      },
      "execution_count": 3,
      "outputs": [
        {
          "output_type": "stream",
          "name": "stdout",
          "text": [
            "Mounted at /content/drive\n"
          ]
        }
      ]
    },
    {
      "cell_type": "markdown",
      "source": [
        "#The ZEBRA Puzzle:\n",
        "Three Different houses each contain a different pet, a different drink, and an inhabitant of a different nationality. The following six facts are true about these houses:\n",
        "- The man in the third house drinks milk\n",
        "- The Spaniard owns the dog\n",
        "- The Ukranian drinks the tea\n",
        "- The Norwegian lives in the first house\n",
        "- The Norwegian lives next to the tea-drinker\n",
        "- The juice-drinker owns the fox\n",
        "Questions: Who owns the zebra? Who drinks juice?\n",
        "\n",
        "***Who owns the zebra? Who drinks juice?***\n"
      ],
      "metadata": {
        "id": "vkn1fHiMPm55"
      }
    },
    {
      "cell_type": "markdown",
      "source": [
        "# We Gonna Solve it Using ***FIRST-ORDER LOGIC***\n",
        "\n"
      ],
      "metadata": {
        "id": "YalccfYJplJp"
      }
    },
    {
      "cell_type": "markdown",
      "source": [
        "###Import the Library and Define the Domain, Relations and the Knowledge Base"
      ],
      "metadata": {
        "id": "1ihkpyjXYCyq"
      }
    },
    {
      "cell_type": "code",
      "source": [
        "from aima.logic import *\n",
        "\n",
        "# Define the domain and relations\n",
        "houses = ['H1', 'H2', 'H3']\n",
        "nationalities = ['Spaniard', 'Ukrainian', 'Norwegian']\n",
        "pets = ['Dog', 'Fox', 'Zebra']\n",
        "beverages = ['Tea', 'Milk', 'Juice']\n",
        "\n",
        "# Define the knowledge base\n",
        "kb = FolKB()"
      ],
      "metadata": {
        "id": "OmHU74jvYBra"
      },
      "execution_count": 4,
      "outputs": []
    },
    {
      "cell_type": "markdown",
      "source": [
        "###Define the Rules"
      ],
      "metadata": {
        "id": "Xp0skfDfWiQG"
      }
    },
    {
      "cell_type": "code",
      "source": [
        "# Define the rules\n",
        "rules = [\n",
        "\n",
        "    'Drinks(x, Milk) ==> LivesIn(x, H3)',\n",
        "    'LivesIn(x, H3) ==> Drinks(x, Milk)',\n",
        "\n",
        "    'Drinks(x, Tea) ==> LivesIn(x, H2)',\n",
        "    'LivesIn(x, H2) ==> Drinks(x, Tea)',\n",
        "\n",
        "    # Facts\n",
        "    'LivesIn(Norwegian, H1)',\n",
        "    'Owns(Spaniard, Dog)',\n",
        "    'Drinks(Ukrainian, Tea)',\n",
        "\n",
        "    # Tea Drinker is Next To the Norwegian\n",
        "    'LivesIn(Norwegian, H1) & LivesIn(p, H2) ==> Drinks(p, Tea)',\n",
        "    'LivesIn(Norwegian, H1) & Drinks(p, Tea) ==>  LivesIn(p, H2)',\n",
        "\n",
        "    'Drinks(x, Juice) ==> Owns(x, Fox)',\n",
        "    'Owns(x, Fox) ==> Drinks(x, Juice)',\n",
        "\n",
        "]"
      ],
      "metadata": {
        "id": "UYX1A_xYWXEC"
      },
      "execution_count": 5,
      "outputs": []
    },
    {
      "cell_type": "markdown",
      "source": [
        "###Adding 'Items should be DISTINCT' Constraints"
      ],
      "metadata": {
        "id": "CqgeFg8NWqyW"
      }
    },
    {
      "cell_type": "code",
      "source": [
        "for n1 in nationalities:\n",
        "  for n2 in nationalities:\n",
        "    for n3 in nationalities:\n",
        "      if n1 != n2 and n1 != n3 and n2 != n3:\n",
        "        expression1 = 'LivesIn(' + n1 + ', H1) & LivesIn(' + n2 + ', H2) ==> LivesIn(' + n3 + ', H3)'\n",
        "        rules.append(expression1)\n",
        "        expression1 = 'LivesIn(' + n1 + ', H1) & LivesIn(' + n2 + ', H3) ==> LivesIn(' + n3 + ', H2)'\n",
        "        rules.append(expression1)\n",
        "        expression1 = 'LivesIn(' + n1 + ', H2) & LivesIn(' + n2 + ', H3) ==> LivesIn(' + n3 + ', H1)'\n",
        "        rules.append(expression1)\n",
        "        expression1 = 'LivesIn(' + n1 + ', H2) & LivesIn(' + n2 + ', H1) ==> LivesIn(' + n3 + ', H3)'\n",
        "        rules.append(expression1)\n",
        "        expression1 = 'LivesIn(' + n1 + ', H3) & LivesIn(' + n2 + ', H2) ==> LivesIn(' + n3 + ', H1)'\n",
        "        rules.append(expression1)\n",
        "        expression1 = 'LivesIn(' + n1 + ', H3) & LivesIn(' + n2 + ', H1) ==> LivesIn(' + n3 + ', H2)'\n",
        "        rules.append(expression1)\n",
        "\n",
        "\n",
        "for d1 in beverages:\n",
        "  for d2 in beverages:\n",
        "    for d3 in beverages:\n",
        "      if d1 != d2 and d1 != d3 and d2 != d3:\n",
        "        expression1 = 'Drinks(Spaniard, ' + d1 + ') & Drinks(Ukrainian, ' + d2 + ') ==> Drinks(Norwegian, ' + d3 + ')'\n",
        "        rules.append(expression1)\n",
        "        expression1 = 'Drinks(Spaniard, ' + d1 + ') & Drinks(Norwegian, ' + d2 + ') ==> Drinks(Ukrainian, ' + d3 + ')'\n",
        "        rules.append(expression1)\n",
        "        expression1 = 'Drinks(Norwegian, ' + d1 + ') & Drinks(Ukrainian, ' + d2 + ') ==> Drinks(Spaniard, ' + d3 + ')'\n",
        "        rules.append(expression1)\n",
        "        expression1 = 'Drinks(Norwegian, ' + d1 + ') & Drinks(Spaniard, ' + d2 + ') ==> Drinks(Ukrainian, ' + d3 + ')'\n",
        "        rules.append(expression1)\n",
        "        expression1 = 'Drinks(Ukrainian, ' + d1 + ') & Drinks(Spaniard, ' + d2 + ') ==> Drinks(Norwegian, ' + d3 + ')'\n",
        "        rules.append(expression1)\n",
        "        expression1 = 'Drinks(Ukrainian, ' + d1 + ') & Drinks(Norwegian, ' + d2 + ') ==> Drinks(Spaniard, ' + d3 + ')'\n",
        "        rules.append(expression1)\n",
        "\n",
        "for p1 in pets:\n",
        "  for p2 in pets:\n",
        "    for p3 in pets:\n",
        "      if p1 != p2 and p1 != p3 and p2 != p3:\n",
        "        expression1 = 'Owns(Spaniard, ' + p1 + ') & Owns(Norwegian, ' + p2 + ') ==> Owns(Ukrainian, ' + p3 + ')'\n",
        "        rules.append(expression1)\n",
        "        expression1 = 'Owns(Spaniard, ' + p1 + ') & Owns(Ukrainian, ' + p2 + ') ==> Owns(Norwegian, ' + p3 + ')'\n",
        "        rules.append(expression1)\n",
        "        expression1 = 'Owns(Norwegian, ' + p1 + ') & Owns(Spaniard, ' + p2 + ') ==> Owns(Ukrainian, ' + p3 + ')'\n",
        "        rules.append(expression1)\n",
        "        expression1 = 'Owns(Norwegian, ' + p1 + ') & Owns(Ukrainian, ' + p2 + ') ==> Owns(Spaniard, ' + p3 + ')'\n",
        "        rules.append(expression1)\n",
        "        expression1 = 'Owns(Ukrainian, ' + p1 + ') & Owns(Norwegian, ' + p2 + ') ==> Owns(Spaniard, ' + p3 + ')'\n",
        "        rules.append(expression1)\n",
        "        expression1 = 'Owns(Ukrainian, ' + p1 + ') & Owns(Spaniard, ' + p2 + ') ==> Owns(Norwegian, ' + p3 + ')'\n",
        "        rules.append(expression1)"
      ],
      "metadata": {
        "id": "ts97xIMuWw2Y"
      },
      "execution_count": 6,
      "outputs": []
    },
    {
      "cell_type": "markdown",
      "source": [
        "### Adding the Rules to the KB"
      ],
      "metadata": {
        "id": "n5YY8MM8W9Uc"
      }
    },
    {
      "cell_type": "code",
      "source": [
        "# Add rules to the knowledge base\n",
        "for rule in rules:\n",
        "    kb.tell(expr(rule))\n",
        "print(kb.clauses)"
      ],
      "metadata": {
        "id": "Qb_bgyPBXBSS",
        "colab": {
          "base_uri": "https://localhost:8080/"
        },
        "outputId": "65950a2d-d816-43f7-a527-03ccb95fa1bd"
      },
      "execution_count": 7,
      "outputs": [
        {
          "output_type": "stream",
          "name": "stdout",
          "text": [
            "[(Drinks(x, Milk) ==> LivesIn(x, H3)), (LivesIn(x, H3) ==> Drinks(x, Milk)), (Drinks(x, Tea) ==> LivesIn(x, H2)), (LivesIn(x, H2) ==> Drinks(x, Tea)), LivesIn(Norwegian, H1), Owns(Spaniard, Dog), Drinks(Ukrainian, Tea), ((LivesIn(Norwegian, H1) & LivesIn(p, H2)) ==> Drinks(p, Tea)), ((LivesIn(Norwegian, H1) & Drinks(p, Tea)) ==> LivesIn(p, H2)), (Drinks(x, Juice) ==> Owns(x, Fox)), (Owns(x, Fox) ==> Drinks(x, Juice)), ((LivesIn(Spaniard, H1) & LivesIn(Ukrainian, H2)) ==> LivesIn(Norwegian, H3)), ((LivesIn(Spaniard, H1) & LivesIn(Ukrainian, H3)) ==> LivesIn(Norwegian, H2)), ((LivesIn(Spaniard, H2) & LivesIn(Ukrainian, H3)) ==> LivesIn(Norwegian, H1)), ((LivesIn(Spaniard, H2) & LivesIn(Ukrainian, H1)) ==> LivesIn(Norwegian, H3)), ((LivesIn(Spaniard, H3) & LivesIn(Ukrainian, H2)) ==> LivesIn(Norwegian, H1)), ((LivesIn(Spaniard, H3) & LivesIn(Ukrainian, H1)) ==> LivesIn(Norwegian, H2)), ((LivesIn(Spaniard, H1) & LivesIn(Norwegian, H2)) ==> LivesIn(Ukrainian, H3)), ((LivesIn(Spaniard, H1) & LivesIn(Norwegian, H3)) ==> LivesIn(Ukrainian, H2)), ((LivesIn(Spaniard, H2) & LivesIn(Norwegian, H3)) ==> LivesIn(Ukrainian, H1)), ((LivesIn(Spaniard, H2) & LivesIn(Norwegian, H1)) ==> LivesIn(Ukrainian, H3)), ((LivesIn(Spaniard, H3) & LivesIn(Norwegian, H2)) ==> LivesIn(Ukrainian, H1)), ((LivesIn(Spaniard, H3) & LivesIn(Norwegian, H1)) ==> LivesIn(Ukrainian, H2)), ((LivesIn(Ukrainian, H1) & LivesIn(Spaniard, H2)) ==> LivesIn(Norwegian, H3)), ((LivesIn(Ukrainian, H1) & LivesIn(Spaniard, H3)) ==> LivesIn(Norwegian, H2)), ((LivesIn(Ukrainian, H2) & LivesIn(Spaniard, H3)) ==> LivesIn(Norwegian, H1)), ((LivesIn(Ukrainian, H2) & LivesIn(Spaniard, H1)) ==> LivesIn(Norwegian, H3)), ((LivesIn(Ukrainian, H3) & LivesIn(Spaniard, H2)) ==> LivesIn(Norwegian, H1)), ((LivesIn(Ukrainian, H3) & LivesIn(Spaniard, H1)) ==> LivesIn(Norwegian, H2)), ((LivesIn(Ukrainian, H1) & LivesIn(Norwegian, H2)) ==> LivesIn(Spaniard, H3)), ((LivesIn(Ukrainian, H1) & LivesIn(Norwegian, H3)) ==> LivesIn(Spaniard, H2)), ((LivesIn(Ukrainian, H2) & LivesIn(Norwegian, H3)) ==> LivesIn(Spaniard, H1)), ((LivesIn(Ukrainian, H2) & LivesIn(Norwegian, H1)) ==> LivesIn(Spaniard, H3)), ((LivesIn(Ukrainian, H3) & LivesIn(Norwegian, H2)) ==> LivesIn(Spaniard, H1)), ((LivesIn(Ukrainian, H3) & LivesIn(Norwegian, H1)) ==> LivesIn(Spaniard, H2)), ((LivesIn(Norwegian, H1) & LivesIn(Spaniard, H2)) ==> LivesIn(Ukrainian, H3)), ((LivesIn(Norwegian, H1) & LivesIn(Spaniard, H3)) ==> LivesIn(Ukrainian, H2)), ((LivesIn(Norwegian, H2) & LivesIn(Spaniard, H3)) ==> LivesIn(Ukrainian, H1)), ((LivesIn(Norwegian, H2) & LivesIn(Spaniard, H1)) ==> LivesIn(Ukrainian, H3)), ((LivesIn(Norwegian, H3) & LivesIn(Spaniard, H2)) ==> LivesIn(Ukrainian, H1)), ((LivesIn(Norwegian, H3) & LivesIn(Spaniard, H1)) ==> LivesIn(Ukrainian, H2)), ((LivesIn(Norwegian, H1) & LivesIn(Ukrainian, H2)) ==> LivesIn(Spaniard, H3)), ((LivesIn(Norwegian, H1) & LivesIn(Ukrainian, H3)) ==> LivesIn(Spaniard, H2)), ((LivesIn(Norwegian, H2) & LivesIn(Ukrainian, H3)) ==> LivesIn(Spaniard, H1)), ((LivesIn(Norwegian, H2) & LivesIn(Ukrainian, H1)) ==> LivesIn(Spaniard, H3)), ((LivesIn(Norwegian, H3) & LivesIn(Ukrainian, H2)) ==> LivesIn(Spaniard, H1)), ((LivesIn(Norwegian, H3) & LivesIn(Ukrainian, H1)) ==> LivesIn(Spaniard, H2)), ((Drinks(Spaniard, Tea) & Drinks(Ukrainian, Milk)) ==> Drinks(Norwegian, Juice)), ((Drinks(Spaniard, Tea) & Drinks(Norwegian, Milk)) ==> Drinks(Ukrainian, Juice)), ((Drinks(Norwegian, Tea) & Drinks(Ukrainian, Milk)) ==> Drinks(Spaniard, Juice)), ((Drinks(Norwegian, Tea) & Drinks(Spaniard, Milk)) ==> Drinks(Ukrainian, Juice)), ((Drinks(Ukrainian, Tea) & Drinks(Spaniard, Milk)) ==> Drinks(Norwegian, Juice)), ((Drinks(Ukrainian, Tea) & Drinks(Norwegian, Milk)) ==> Drinks(Spaniard, Juice)), ((Drinks(Spaniard, Tea) & Drinks(Ukrainian, Juice)) ==> Drinks(Norwegian, Milk)), ((Drinks(Spaniard, Tea) & Drinks(Norwegian, Juice)) ==> Drinks(Ukrainian, Milk)), ((Drinks(Norwegian, Tea) & Drinks(Ukrainian, Juice)) ==> Drinks(Spaniard, Milk)), ((Drinks(Norwegian, Tea) & Drinks(Spaniard, Juice)) ==> Drinks(Ukrainian, Milk)), ((Drinks(Ukrainian, Tea) & Drinks(Spaniard, Juice)) ==> Drinks(Norwegian, Milk)), ((Drinks(Ukrainian, Tea) & Drinks(Norwegian, Juice)) ==> Drinks(Spaniard, Milk)), ((Drinks(Spaniard, Milk) & Drinks(Ukrainian, Tea)) ==> Drinks(Norwegian, Juice)), ((Drinks(Spaniard, Milk) & Drinks(Norwegian, Tea)) ==> Drinks(Ukrainian, Juice)), ((Drinks(Norwegian, Milk) & Drinks(Ukrainian, Tea)) ==> Drinks(Spaniard, Juice)), ((Drinks(Norwegian, Milk) & Drinks(Spaniard, Tea)) ==> Drinks(Ukrainian, Juice)), ((Drinks(Ukrainian, Milk) & Drinks(Spaniard, Tea)) ==> Drinks(Norwegian, Juice)), ((Drinks(Ukrainian, Milk) & Drinks(Norwegian, Tea)) ==> Drinks(Spaniard, Juice)), ((Drinks(Spaniard, Milk) & Drinks(Ukrainian, Juice)) ==> Drinks(Norwegian, Tea)), ((Drinks(Spaniard, Milk) & Drinks(Norwegian, Juice)) ==> Drinks(Ukrainian, Tea)), ((Drinks(Norwegian, Milk) & Drinks(Ukrainian, Juice)) ==> Drinks(Spaniard, Tea)), ((Drinks(Norwegian, Milk) & Drinks(Spaniard, Juice)) ==> Drinks(Ukrainian, Tea)), ((Drinks(Ukrainian, Milk) & Drinks(Spaniard, Juice)) ==> Drinks(Norwegian, Tea)), ((Drinks(Ukrainian, Milk) & Drinks(Norwegian, Juice)) ==> Drinks(Spaniard, Tea)), ((Drinks(Spaniard, Juice) & Drinks(Ukrainian, Tea)) ==> Drinks(Norwegian, Milk)), ((Drinks(Spaniard, Juice) & Drinks(Norwegian, Tea)) ==> Drinks(Ukrainian, Milk)), ((Drinks(Norwegian, Juice) & Drinks(Ukrainian, Tea)) ==> Drinks(Spaniard, Milk)), ((Drinks(Norwegian, Juice) & Drinks(Spaniard, Tea)) ==> Drinks(Ukrainian, Milk)), ((Drinks(Ukrainian, Juice) & Drinks(Spaniard, Tea)) ==> Drinks(Norwegian, Milk)), ((Drinks(Ukrainian, Juice) & Drinks(Norwegian, Tea)) ==> Drinks(Spaniard, Milk)), ((Drinks(Spaniard, Juice) & Drinks(Ukrainian, Milk)) ==> Drinks(Norwegian, Tea)), ((Drinks(Spaniard, Juice) & Drinks(Norwegian, Milk)) ==> Drinks(Ukrainian, Tea)), ((Drinks(Norwegian, Juice) & Drinks(Ukrainian, Milk)) ==> Drinks(Spaniard, Tea)), ((Drinks(Norwegian, Juice) & Drinks(Spaniard, Milk)) ==> Drinks(Ukrainian, Tea)), ((Drinks(Ukrainian, Juice) & Drinks(Spaniard, Milk)) ==> Drinks(Norwegian, Tea)), ((Drinks(Ukrainian, Juice) & Drinks(Norwegian, Milk)) ==> Drinks(Spaniard, Tea)), ((Owns(Spaniard, Dog) & Owns(Norwegian, Fox)) ==> Owns(Ukrainian, Zebra)), ((Owns(Spaniard, Dog) & Owns(Ukrainian, Fox)) ==> Owns(Norwegian, Zebra)), ((Owns(Norwegian, Dog) & Owns(Spaniard, Fox)) ==> Owns(Ukrainian, Zebra)), ((Owns(Norwegian, Dog) & Owns(Ukrainian, Fox)) ==> Owns(Spaniard, Zebra)), ((Owns(Ukrainian, Dog) & Owns(Norwegian, Fox)) ==> Owns(Spaniard, Zebra)), ((Owns(Ukrainian, Dog) & Owns(Spaniard, Fox)) ==> Owns(Norwegian, Zebra)), ((Owns(Spaniard, Dog) & Owns(Norwegian, Zebra)) ==> Owns(Ukrainian, Fox)), ((Owns(Spaniard, Dog) & Owns(Ukrainian, Zebra)) ==> Owns(Norwegian, Fox)), ((Owns(Norwegian, Dog) & Owns(Spaniard, Zebra)) ==> Owns(Ukrainian, Fox)), ((Owns(Norwegian, Dog) & Owns(Ukrainian, Zebra)) ==> Owns(Spaniard, Fox)), ((Owns(Ukrainian, Dog) & Owns(Norwegian, Zebra)) ==> Owns(Spaniard, Fox)), ((Owns(Ukrainian, Dog) & Owns(Spaniard, Zebra)) ==> Owns(Norwegian, Fox)), ((Owns(Spaniard, Fox) & Owns(Norwegian, Dog)) ==> Owns(Ukrainian, Zebra)), ((Owns(Spaniard, Fox) & Owns(Ukrainian, Dog)) ==> Owns(Norwegian, Zebra)), ((Owns(Norwegian, Fox) & Owns(Spaniard, Dog)) ==> Owns(Ukrainian, Zebra)), ((Owns(Norwegian, Fox) & Owns(Ukrainian, Dog)) ==> Owns(Spaniard, Zebra)), ((Owns(Ukrainian, Fox) & Owns(Norwegian, Dog)) ==> Owns(Spaniard, Zebra)), ((Owns(Ukrainian, Fox) & Owns(Spaniard, Dog)) ==> Owns(Norwegian, Zebra)), ((Owns(Spaniard, Fox) & Owns(Norwegian, Zebra)) ==> Owns(Ukrainian, Dog)), ((Owns(Spaniard, Fox) & Owns(Ukrainian, Zebra)) ==> Owns(Norwegian, Dog)), ((Owns(Norwegian, Fox) & Owns(Spaniard, Zebra)) ==> Owns(Ukrainian, Dog)), ((Owns(Norwegian, Fox) & Owns(Ukrainian, Zebra)) ==> Owns(Spaniard, Dog)), ((Owns(Ukrainian, Fox) & Owns(Norwegian, Zebra)) ==> Owns(Spaniard, Dog)), ((Owns(Ukrainian, Fox) & Owns(Spaniard, Zebra)) ==> Owns(Norwegian, Dog)), ((Owns(Spaniard, Zebra) & Owns(Norwegian, Dog)) ==> Owns(Ukrainian, Fox)), ((Owns(Spaniard, Zebra) & Owns(Ukrainian, Dog)) ==> Owns(Norwegian, Fox)), ((Owns(Norwegian, Zebra) & Owns(Spaniard, Dog)) ==> Owns(Ukrainian, Fox)), ((Owns(Norwegian, Zebra) & Owns(Ukrainian, Dog)) ==> Owns(Spaniard, Fox)), ((Owns(Ukrainian, Zebra) & Owns(Norwegian, Dog)) ==> Owns(Spaniard, Fox)), ((Owns(Ukrainian, Zebra) & Owns(Spaniard, Dog)) ==> Owns(Norwegian, Fox)), ((Owns(Spaniard, Zebra) & Owns(Norwegian, Fox)) ==> Owns(Ukrainian, Dog)), ((Owns(Spaniard, Zebra) & Owns(Ukrainian, Fox)) ==> Owns(Norwegian, Dog)), ((Owns(Norwegian, Zebra) & Owns(Spaniard, Fox)) ==> Owns(Ukrainian, Dog)), ((Owns(Norwegian, Zebra) & Owns(Ukrainian, Fox)) ==> Owns(Spaniard, Dog)), ((Owns(Ukrainian, Zebra) & Owns(Norwegian, Fox)) ==> Owns(Spaniard, Dog)), ((Owns(Ukrainian, Zebra) & Owns(Spaniard, Fox)) ==> Owns(Norwegian, Dog))]\n"
          ]
        }
      ]
    },
    {
      "cell_type": "markdown",
      "source": [
        "### Now the Answers"
      ],
      "metadata": {
        "id": "NLLSRZ18XC6l"
      }
    },
    {
      "cell_type": "code",
      "source": [
        "print('Who owns the zebra?')\n",
        "for r in fol_fc_ask(kb, expr('Owns(nationality, Zebra)')):\n",
        "    print(r)\n",
        "\n",
        "print('Who drinks juice?')\n",
        "for r in fol_fc_ask(kb, expr('Drinks(nationality, Juice)')):\n",
        "    print(r)"
      ],
      "metadata": {
        "colab": {
          "base_uri": "https://localhost:8080/"
        },
        "id": "U4io-z5PXLCo",
        "outputId": "e854abe6-a36f-440b-fdf8-ae3b50156c48"
      },
      "execution_count": 8,
      "outputs": [
        {
          "output_type": "stream",
          "name": "stdout",
          "text": [
            "Who owns the zebra?\n",
            "{nationality: Ukrainian}\n",
            "Who drinks juice?\n",
            "{nationality: Norwegian}\n"
          ]
        }
      ]
    },
    {
      "cell_type": "markdown",
      "source": [
        "###Expected Output:\n",
        "Who owns the zebra?  \n",
        "{nationality: Ukrainian}  \n",
        "Who drinks juice?  \n",
        "{nationality: Norwegian}"
      ],
      "metadata": {
        "id": "EjK1db3XXUIo"
      }
    }
  ]
}